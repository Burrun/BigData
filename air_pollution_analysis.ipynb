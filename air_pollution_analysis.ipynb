{
 "cells": [
  {
   "cell_type": "markdown",
   "metadata": {},
   "source": [
    "## 1. 필요한 라이브러리 임포트"
   ]
  },
  {
   "cell_type": "code",
   "execution_count": 3,
   "metadata": {},
   "outputs": [
    {
     "name": "stdout",
     "output_type": "stream",
     "text": [
      "Defaulting to user installation because normal site-packages is not writeable\n",
      "Requirement already satisfied: pandas in c:\\users\\administrator\\appdata\\local\\packages\\pythonsoftwarefoundation.python.3.12_qbz5n2kfra8p0\\localcache\\local-packages\\python312\\site-packages (2.2.3)\n",
      "Requirement already satisfied: numpy in c:\\users\\administrator\\appdata\\local\\packages\\pythonsoftwarefoundation.python.3.12_qbz5n2kfra8p0\\localcache\\local-packages\\python312\\site-packages (2.2.6)\n",
      "Requirement already satisfied: matplotlib in c:\\users\\administrator\\appdata\\local\\packages\\pythonsoftwarefoundation.python.3.12_qbz5n2kfra8p0\\localcache\\local-packages\\python312\\site-packages (3.10.3)\n",
      "Requirement already satisfied: seaborn in c:\\users\\administrator\\appdata\\local\\packages\\pythonsoftwarefoundation.python.3.12_qbz5n2kfra8p0\\localcache\\local-packages\\python312\\site-packages (0.13.2)\n",
      "Requirement already satisfied: openpyxl in c:\\users\\administrator\\appdata\\local\\packages\\pythonsoftwarefoundation.python.3.12_qbz5n2kfra8p0\\localcache\\local-packages\\python312\\site-packages (3.1.5)\n",
      "Requirement already satisfied: python-dateutil>=2.8.2 in c:\\users\\administrator\\appdata\\local\\packages\\pythonsoftwarefoundation.python.3.12_qbz5n2kfra8p0\\localcache\\local-packages\\python312\\site-packages (from pandas) (2.9.0.post0)\n",
      "Requirement already satisfied: pytz>=2020.1 in c:\\users\\administrator\\appdata\\local\\packages\\pythonsoftwarefoundation.python.3.12_qbz5n2kfra8p0\\localcache\\local-packages\\python312\\site-packages (from pandas) (2025.2)\n",
      "Requirement already satisfied: tzdata>=2022.7 in c:\\users\\administrator\\appdata\\local\\packages\\pythonsoftwarefoundation.python.3.12_qbz5n2kfra8p0\\localcache\\local-packages\\python312\\site-packages (from pandas) (2025.2)\n",
      "Requirement already satisfied: contourpy>=1.0.1 in c:\\users\\administrator\\appdata\\local\\packages\\pythonsoftwarefoundation.python.3.12_qbz5n2kfra8p0\\localcache\\local-packages\\python312\\site-packages (from matplotlib) (1.3.2)\n",
      "Requirement already satisfied: cycler>=0.10 in c:\\users\\administrator\\appdata\\local\\packages\\pythonsoftwarefoundation.python.3.12_qbz5n2kfra8p0\\localcache\\local-packages\\python312\\site-packages (from matplotlib) (0.12.1)\n",
      "Requirement already satisfied: fonttools>=4.22.0 in c:\\users\\administrator\\appdata\\local\\packages\\pythonsoftwarefoundation.python.3.12_qbz5n2kfra8p0\\localcache\\local-packages\\python312\\site-packages (from matplotlib) (4.58.1)\n",
      "Requirement already satisfied: kiwisolver>=1.3.1 in c:\\users\\administrator\\appdata\\local\\packages\\pythonsoftwarefoundation.python.3.12_qbz5n2kfra8p0\\localcache\\local-packages\\python312\\site-packages (from matplotlib) (1.4.8)\n",
      "Requirement already satisfied: packaging>=20.0 in c:\\users\\administrator\\appdata\\local\\packages\\pythonsoftwarefoundation.python.3.12_qbz5n2kfra8p0\\localcache\\local-packages\\python312\\site-packages (from matplotlib) (25.0)\n",
      "Requirement already satisfied: pillow>=8 in c:\\users\\administrator\\appdata\\local\\packages\\pythonsoftwarefoundation.python.3.12_qbz5n2kfra8p0\\localcache\\local-packages\\python312\\site-packages (from matplotlib) (11.2.1)\n",
      "Requirement already satisfied: pyparsing>=2.3.1 in c:\\users\\administrator\\appdata\\local\\packages\\pythonsoftwarefoundation.python.3.12_qbz5n2kfra8p0\\localcache\\local-packages\\python312\\site-packages (from matplotlib) (3.2.3)\n",
      "Requirement already satisfied: et-xmlfile in c:\\users\\administrator\\appdata\\local\\packages\\pythonsoftwarefoundation.python.3.12_qbz5n2kfra8p0\\localcache\\local-packages\\python312\\site-packages (from openpyxl) (2.0.0)\n",
      "Requirement already satisfied: six>=1.5 in c:\\users\\administrator\\appdata\\local\\packages\\pythonsoftwarefoundation.python.3.12_qbz5n2kfra8p0\\localcache\\local-packages\\python312\\site-packages (from python-dateutil>=2.8.2->pandas) (1.17.0)\n",
      "Note: you may need to restart the kernel to use updated packages.\n"
     ]
    }
   ],
   "source": [
    "%pip install pandas numpy matplotlib seaborn openpyxl\n",
    "\n",
    "import pandas as pd\n",
    "import numpy as np\n",
    "import matplotlib.pyplot as plt\n",
    "import seaborn as sns        "
   ]
  },
  {
   "cell_type": "markdown",
   "metadata": {},
   "source": [
    "## 2. 한국의 미세먼지 데이터 로드 및 전처리"
   ]
  },
  {
   "cell_type": "markdown",
   "metadata": {},
   "source": []
  },
  {
   "cell_type": "code",
   "execution_count": null,
   "metadata": {},
   "outputs": [],
   "source": [
    "import pandas as pd\n",
    "\n",
    "# 1. 엑셀 파일 불러오기\n",
    "file_path = \"./data/2022년 대기오염물질 배출량 통계(시군구별 배출원소분류별 연료별).xlsx\"\n",
    "df_raw = pd.read_excel(file_path, sheet_name='2022년')\n",
    "\n",
    "# 2. 상위 3행 제거 (메타데이터 + 헤더행)\n",
    "df = df_raw.iloc[3:].reset_index(drop=True)\n",
    "\n",
    "# 3. 컬럼명 지정 (1번째, 2번째 행을 조합)\n",
    "columns_lvl_1 = df_raw.iloc[1].tolist()\n",
    "columns_lvl_2 = df_raw.iloc[2].tolist()\n",
    "final_columns = [a if pd.notna(a) else b for a, b in zip(columns_lvl_1, columns_lvl_2)]\n",
    "df.columns = final_columns\n",
    "\n",
    "# 4. 필요한 열만 선택\n",
    "df_filtered = df[[\"시도\", \"배출원대분류\", \"PM-2.5\", \"PM-10\"]].copy()\n",
    "df_filtered[\"PM-2.5\"] = pd.to_numeric(df_filtered[\"PM-2.5\"], errors=\"coerce\")\n",
    "df_filtered[\"PM-10\"] = pd.to_numeric(df_filtered[\"PM-10\"], errors=\"coerce\")\n",
    "df_filtered = df_filtered.dropna(subset=[\"시도\", \"배출원대분류\", \"PM-2.5\", \"PM-10\"])\n",
    "df_filtered = df_filtered[df_filtered[\"시도\"] != \"바다\"]\n",
    "\n",
    "# 5. 시도 + 배출원대분류 기준으로 총합 계산\n",
    "summary_pm25 = df_filtered.groupby([\"시도\", \"배출원대분류\"])[\"PM-2.5\"].sum().reset_index()\n",
    "summary_pm10 = df_filtered.groupby([\"시도\", \"배출원대분류\"])[\"PM-10\"].sum().reset_index()\n",
    "\n",
    "# 6. 피벗 테이블 생성\n",
    "pivot_pm25 = summary_pm25.pivot(index=\"시도\", columns=\"배출원대분류\", values=\"PM-2.5\").fillna(0).astype(int)\n",
    "pivot_pm10 = summary_pm10.pivot(index=\"시도\", columns=\"배출원대분류\", values=\"PM-10\").fillna(0).astype(int)\n",
    "\n",
    "# 6-1. '총합' 열 추가\n",
    "pivot_pm25[\"총합\"] = pivot_pm25.sum(axis=1)\n",
    "pivot_pm10[\"총합\"] = pivot_pm10.sum(axis=1)\n",
    "\n",
    "# 6-2. 인덱스 리셋 후 '시도' 축약\n",
    "pivot_pm25 = pivot_pm25.reset_index()\n",
    "pivot_pm10 = pivot_pm10.reset_index()\n",
    "\n",
    "# 6-3. 시도 축약 매핑\n",
    "name_map = {\n",
    "    \"서울특별시\": \"서울\",\n",
    "    \"부산광역시\": \"부산\",\n",
    "    \"대구광역시\": \"대구\",\n",
    "    \"인천광역시\": \"인천\",\n",
    "    \"광주광역시\": \"광주\",\n",
    "    \"대전광역시\": \"대전\",\n",
    "    \"울산광역시\": \"울산\",\n",
    "    \"세종특별자치시\": \"세종\",\n",
    "    \"경기도\": \"경기\",\n",
    "    \"강원도\": \"강원\",\n",
    "    \"충청북도\": \"충북\",\n",
    "    \"충청남도\": \"충남\",\n",
    "    \"전라북도\": \"전북\",\n",
    "    \"전라남도\": \"전남\",\n",
    "    \"경상북도\": \"경북\",\n",
    "    \"경상남도\": \"경남\",\n",
    "    \"제주특별자치도\": \"제주\"\n",
    "}\n",
    "\n",
    "pivot_pm25[\"시도\"] = pivot_pm25[\"시도\"].map(name_map)\n",
    "pivot_pm10[\"시도\"] = pivot_pm10[\"시도\"].map(name_map)\n",
    "\n",
    "# 6-4. \"세종\" 제거\n",
    "# pivot_pm25 = pivot_pm25[pivot_pm25[\"시도\"] != \"세종\"]\n",
    "# pivot_pm10 = pivot_pm10[pivot_pm10[\"시도\"] != \"세종\"]\n",
    "\n",
    "# 8. 확인용 출력\n",
    "print(\"=== PM-2.5 피벗 테이블 ===\")\n",
    "print(pivot_pm25.head())\n",
    "\n",
    "print(\"\\n=== PM-10 피벗 테이블 ===\")\n",
    "print(pivot_pm10.head())\n"
   ]
  },
  {
   "cell_type": "markdown",
   "metadata": {},
   "source": [
    "> **같은 배출량이더라도, 오염원의 배출 위치, 방식, 화학 성분, 기상 조건에 따라 대기질 영향은 달라진다**는 것은  \n",
    "> 환경과학에서 인정된 객관적 사실입니다.\n",
    "\n",
    "따라서, 단순히 `t/yr` 배출량만으로 대기질 기여도를 판단하기보다는,  \n",
    "**질량 기준 + 배출 특성 + 기상 조건**을 함께 고려해야 합니다.\n",
    "\n",
    "| 오염원   | PM2.5 배출량 | 배출 조건             | 대기질 영향              |\n",
    "|----------|---------------|------------------------|---------------------------|\n",
    "| 발전소   | 100kg         | 고고도, 확산 양호       | 낮음                      |\n",
    "| 차량     | 100kg         | 지표면, 교통 밀집        | 매우 높음                 |\n",
    "| 가정 난방 | 100kg         | 겨울철 밤, 지면 근처     | 높음                      |\n",
    "| 농업 연소 | 100kg         | 야외, 바람 강함          | 지역에 따라 낮을 수도 있음 |\n"
   ]
  },
  {
   "cell_type": "markdown",
   "metadata": {},
   "source": [
    "3. 날씨 요인 데이터 로드 및 전처리"
   ]
  },
  {
   "cell_type": "code",
   "execution_count": null,
   "metadata": {},
   "outputs": [],
   "source": []
  },
  {
   "cell_type": "markdown",
   "metadata": {},
   "source": [
    "3. 중국의 미세먼지 데이터 로드 및 전처리"
   ]
  },
  {
   "cell_type": "code",
   "execution_count": null,
   "metadata": {},
   "outputs": [],
   "source": []
  },
  {
   "cell_type": "markdown",
   "metadata": {},
   "source": [
    "5. 황사 여부 "
   ]
  },
  {
   "cell_type": "code",
   "execution_count": null,
   "metadata": {},
   "outputs": [],
   "source": []
  },
  {
   "cell_type": "markdown",
   "metadata": {},
   "source": [
    "6. 다중공산성 확인 "
   ]
  },
  {
   "cell_type": "code",
   "execution_count": null,
   "metadata": {},
   "outputs": [],
   "source": []
  },
  {
   "cell_type": "markdown",
   "metadata": {},
   "source": [
    "7. 회귀분석 모델 작성"
   ]
  },
  {
   "cell_type": "code",
   "execution_count": null,
   "metadata": {},
   "outputs": [],
   "source": []
  },
  {
   "cell_type": "markdown",
   "metadata": {},
   "source": [
    "8. 프로젝트 시각화"
   ]
  },
  {
   "cell_type": "code",
   "execution_count": null,
   "metadata": {},
   "outputs": [],
   "source": []
  }
 ],
 "metadata": {
  "kernelspec": {
   "display_name": "Python 3",
   "language": "python",
   "name": "python3"
  },
  "language_info": {
   "codemirror_mode": {
    "name": "ipython",
    "version": 3
   },
   "file_extension": ".py",
   "mimetype": "text/x-python",
   "name": "python",
   "nbconvert_exporter": "python",
   "pygments_lexer": "ipython3",
   "version": "3.12.10"
  }
 },
 "nbformat": 4,
 "nbformat_minor": 4
}
